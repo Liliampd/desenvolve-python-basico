{
 "cells": [
  {
   "cell_type": "markdown",
   "id": "29e89030",
   "metadata": {},
   "source": [
    "# Módulo 4 - Repetições\n",
    "\n",
    "## Aulas 4.2 - Comando ```for``` e 4.3 Break e Continue"
   ]
  },
  {
   "cell_type": "markdown",
   "id": "a45b42df",
   "metadata": {},
   "source": [
    "### Q1.\n",
    "\n",
    "Crie um programa em Python que utilize o comando for para imprimir os números de 10 a 1, em ordem decrescente."
   ]
  },
  {
   "cell_type": "code",
   "execution_count": null,
   "id": "55a75b3d",
   "metadata": {},
   "outputs": [],
   "source": [
    "## Escreva e execute seu código aqui\n",
    " \n",
    "for i in range(10,0,-1):\n",
    "    print(i)"
   ]
  },
  {
   "cell_type": "markdown",
   "id": "94b47c36",
   "metadata": {},
   "source": [
    "### Q2.\n",
    "\n",
    "Dado um número inteiro positivo informado pelo usuário, crie um programa em Python que utilize o comando for para calcular e exibir a soma dos números de 1 até o número informado. Ou seja, $1 + 2 + 3 + ... + n$\n",
    "\n",
    "Exemplo de interação:\n",
    "```\n",
    "Digite um número: 5\n",
    "A soma dos números de 1 a 5 é 15\n",
    "```\n"
   ]
  },
  {
   "cell_type": "code",
   "execution_count": 24,
   "id": "45b71596",
   "metadata": {
    "scrolled": true
   },
   "outputs": [
    {
     "name": "stdout",
     "output_type": "stream",
     "text": [
      "Digite um número:  2\n"
     ]
    },
    {
     "name": "stdout",
     "output_type": "stream",
     "text": [
      "A soma dos números de 1 até 2 é : 3\n"
     ]
    }
   ],
   "source": [
    "## Escreva e execute seu código aqui\n",
    "n = int(input(\"Digite um número: \"))\n",
    "soma = 0\n",
    "for i in range(n+1):\n",
    "    soma += i\n",
    "print(f\"A soma dos números de 1 até {n} é : {soma}\")"
   ]
  },
  {
   "cell_type": "markdown",
   "id": "31689121-cd59-4b9b-b1be-3704fb7cf371",
   "metadata": {},
   "source": [
    "Q3.\n",
    "Escreva um programa que lê 10 valores inteiros positivos do usuário e ao final imprime a média dos valores digitados com duas casas decimais.\n",
    "\n",
    "Digite 10 números positivos:\n",
    "3\n",
    "2\n",
    "12\n",
    "14\n",
    "20\n",
    "42\n",
    "19\n",
    "0\n",
    "8\n",
    "1\n",
    "A média dos valores digitados é 12.10"
   ]
  },
  {
   "cell_type": "code",
   "execution_count": 1,
   "id": "806d3465-3a12-45a6-8978-496531a028d8",
   "metadata": {
    "scrolled": true
   },
   "outputs": [
    {
     "name": "stdout",
     "output_type": "stream",
     "text": [
      "Digite um número:  1\n",
      "Digite um número:  2\n",
      "Digite um número:  3\n",
      "Digite um número:  4\n",
      "Digite um número:  5\n",
      "Digite um número:  6\n",
      "Digite um número:  7\n",
      "Digite um número:  8\n",
      "Digite um número:  9\n",
      "Digite um número:  10\n"
     ]
    },
    {
     "name": "stdout",
     "output_type": "stream",
     "text": [
      " A media dos números digitados é: 5.50\n"
     ]
    }
   ],
   "source": [
    "# Escreva e execute seu código aqui\n",
    "n = 0\n",
    "soma = 0 \n",
    "media = 0\n",
    "\n",
    "for i in range (10):\n",
    "    n = float(input(\"Digite um número: \"))\n",
    "    soma += n\n",
    "    media = soma / 10\n",
    "\n",
    "print(f\" A media dos números digitados é: {media:.2f}\")\n"
   ]
  },
  {
   "cell_type": "markdown",
   "id": "d62e27ff",
   "metadata": {},
   "source": [
    "### Q4.\n",
    "\n",
    "Você vai criar um sistema que registra os resultados dos jogos do Atlético MG ao longo de um campeonato. Seu sistema vai receber os resultados de todos os jogos do Galo, e deve calcular a pontuação do time sabendo que vitórias valem 3 pontos, empates 1 ponto e derrotas 0 pontos.\n",
    "\n",
    "Entrada: <br>\n",
    "A primeira linha de entrada é um inteiro N com a quantidade jogos do galo. Para cada jogo você deve ler 2 inteiros, o primeiro com a quantidade de gols do galo e o segundo com a quantidade de gols do time oponente. \n",
    "\n",
    "Saída: <br>\n",
    "Apresente a soma de vitórias, empates e derrotas do galo, junto com o cálculo da pontuação total.\n",
    "\n",
    "Ex:\n",
    "```\n",
    "Entrada:\n",
    "4\n",
    "2\n",
    "0\n",
    "1\n",
    "1\n",
    "0\n",
    "3\n",
    "1\n",
    "0\n",
    "\n",
    "Saída:\n",
    "Vitórias: 2\n",
    "Empates: 1\n",
    "Derrotas: 1\n",
    "Pontuação: 7\n",
    "\n",
    "```\n",
    "\n",
    "\n"
   ]
  },
  {
   "cell_type": "code",
   "execution_count": null,
   "id": "d3fdfc2a",
   "metadata": {},
   "outputs": [],
   "source": [
    "## Escreva e execute seu código aqui\n",
    "\n",
    "numero_de_jogos = 0 \n",
    "gols_galo = 0\n",
    "gols_adv = 0\n",
    "empate = 0 \n",
    "total_gols_galo = 0\n",
    "total_gols_adv =0 \n",
    "vitoria_galo = 0\n",
    "vitoria_adv = 0\n",
    "derrota_galo =0 \n",
    "derrota_adv = 0\n",
    "soma = 0 \n",
    "\n",
    "numero_de_jogos = int(input(\"Digite o número de jogos: \"))\n",
    "for i in range(numero_de_jogos):\n",
    "    gols_galo = int(input(\"Digite o número de gols do Galo: \"))\n",
    "    total_gols_galo += gols_galo\n",
    "    gols_adv = int(input(\"Digite a quantidade de gols do adversário: \"))\n",
    "    total_gols_adv += gols_adv\n",
    "\n",
    "    if gols_galo > gols_adv:\n",
    "      vitoria_galo += 1\n",
    "      derrota_adv += 1\n",
    "    elif gols_galo < gols_adv:\n",
    "      vitoria_adv += 1\n",
    "      derrota_galo += 1\n",
    "    else:\n",
    "      empate += 1\n",
    "\n",
    "\n",
    "print(f\" Vitórias do Galo: {vitoria_galo}\")\n",
    "print(f\"Derrotas do galo: {derrota_galo}\")\n",
    "print(f\"Empates do galo: {empate}\")\n",
    "print(f\"Pontução do galo: {vitoria_galo*3 + empate*1}\")\n",
    "print(f\" Vitórias do adversário: {vitoria_adv}\")\n",
    "print(f\"Derrotas do adversário: {derrota_adv}\")\n",
    "print(f\"Empates do adversário: {empate}\")\n",
    "print(f\"Pontução do adversário: {vitoria_adv*3 + empate *1}\")"
   ]
  },
  {
   "cell_type": "markdown",
   "id": "fc98604d",
   "metadata": {},
   "source": [
    "### Q5.\n",
    "\n",
    "Faça um programa que lê dois inteiros N e M, e imprime na tela um campo de batalha naval. O tabuleiro deve possuir N linhas e M colunas. A primeira linha é composta por um espaço em branco e o cabeçalho das colunas, ou seja, valores de 1 a M. As N linhas seguintes iniciam com o cabeçalho da linha, ou seja, seu número, seguido de M caracteres \"/\" (barra) indicando uma possível posição jogável. \n",
    "\n",
    "```\n",
    "Entrada:\n",
    "5\n",
    "4\n",
    "\n",
    "Saída:\n",
    "  1 2 3 4 \n",
    "1 / / / / \n",
    "2 / / / / \n",
    "3 / / / / \n",
    "4 / / / / \n",
    "5 / / / / \n",
    "```\n",
    "\n",
    "Para esse exercício, precisamos lembrar que o comando print implicitamente adiciona uma quebra de linha ao final da impressão. Podemos interferir no final da impressão adicionando mais uma entrada ao print. No exemplo, finalizamos cada linha com um espaço em branco:\n",
    "```python\n",
    "print(\"Texto qualquer\", end = \" \")\n",
    "```"
   ]
  },
  {
   "cell_type": "code",
   "execution_count": 21,
   "id": "a60ef197",
   "metadata": {},
   "outputs": [
    {
     "name": "stdout",
     "output_type": "stream",
     "text": [
      "  1 2 3 4 5 \n",
      "1 / / / / / \n",
      "2 / / / / / \n",
      "3 / / / / / \n",
      "4 / / / / / \n"
     ]
    }
   ],
   "source": [
    "## Escreva e execute seu código aqui\n",
    "# Entrada dos valores de N e M\n",
    "N = int(input())\n",
    "M = int(input())\n",
    "\n",
    "# Imprime o cabeçalho das colunas\n",
    "print(\" \", end=\" \")\n",
    "for j in range(1, M + 1):\n",
    "    print(j, end=\" \")\n",
    "print()\n",
    "\n",
    "# Imprime as linhas do tabuleiro\n",
    "for i in range(1, N + 1):\n",
    "    print(i, end=\" \")  # Cabeçalho da linha\n",
    "    for j in range(M):\n",
    "        print(\"/\", end=\" \")\n",
    "    print()  # Nova linha"
   ]
  },
  {
   "cell_type": "markdown",
   "id": "4654dc0b",
   "metadata": {},
   "source": [
    "---\n",
    "## Break e Continue"
   ]
  },
  {
   "cell_type": "markdown",
   "id": "24fe9d85",
   "metadata": {},
   "source": [
    "### Q6.\n",
    "\n",
    "Escreva um programa que lê uma quantidade indefinida de valores e informa o maior e o menor valor digitados. A leitura é encerrada quando o usuário digitar o valor 0 (zero).\n",
    "\n",
    "```\n",
    "Entrada:\n",
    "12\n",
    "-1\n",
    "29\n",
    "11\n",
    "-5\n",
    "0\n",
    "\n",
    "Saída:\n",
    "Maior: 29\n",
    "Menor: -5\n",
    "```"
   ]
  },
  {
   "cell_type": "code",
   "execution_count": 14,
   "id": "ee1c466a",
   "metadata": {},
   "outputs": [
    {
     "name": "stdout",
     "output_type": "stream",
     "text": [
      "O maior valor é: 5\n",
      "O menor valor é: 1 \n"
     ]
    }
   ],
   "source": [
    "## Escreva e execute seu código aqui\n",
    "maior = float('-inf')\n",
    "menor = float('inf')\n",
    "\n",
    "while True:\n",
    "    n = int(input(\"Digite um número: \"))\n",
    "    if n == 0:\n",
    "        break\n",
    "\n",
    "    if n > maior:\n",
    "        maior = n\n",
    "\n",
    "    if n < menor:\n",
    "        menor = n\n",
    "\n",
    "print(f\"O maior valor é: {maior}\")\n",
    "print(f\"O menor valor é: {menor} \")"
   ]
  },
  {
   "cell_type": "markdown",
   "id": "30d486f7",
   "metadata": {},
   "source": [
    "### Q7.\n",
    "\n",
    "Escreva um programa que lê uma quantidade indefinida de valores e informa o **produto** dos valores positivos digitados. A leitura é encerrada quando o usuário digitar o valor 0 (zero).\n",
    "\n",
    "```\n",
    "Entrada:\n",
    "2\n",
    "-1\n",
    "1\n",
    "3\n",
    "-5\n",
    "0\n",
    "\n",
    "Saída:\n",
    "Produto: 6\n",
    "```"
   ]
  },
  {
   "cell_type": "code",
   "execution_count": 15,
   "id": "2f1ac324",
   "metadata": {},
   "outputs": [
    {
     "name": "stdout",
     "output_type": "stream",
     "text": [
      "O menor valor é: 6 \n"
     ]
    }
   ],
   "source": [
    "## Escreva e execute seu código aqui\n",
    "produto = 1\n",
    "\n",
    "while True:\n",
    "    n = int(input(\"Digite um número: \"))\n",
    "    if n == 0: break # se o valor digitado for igual a zero sai do laço\n",
    "    if n < 0: continue # se o valor digitado for menor do que zero volta para o início do laço\n",
    "\n",
    "    produto *= n # produto = produto * n\n",
    "\n",
    "\n",
    "    \n",
    "print(f\"O menor valor é: {produto} \")"
   ]
  },
  {
   "cell_type": "markdown",
   "id": "e932f3cf",
   "metadata": {},
   "source": [
    "### Q8.\n",
    "\n",
    "Vamos fazer uma calculadora que aceita expressões aritméticas de qualquer tamanho até que o usuário digite a palavra \"Fim\". Sua calculadora executa apenas as operações \"+\", \"-\".\n",
    "\n",
    "```\n",
    "Entrada:\n",
    "5\n",
    "+\n",
    "8\n",
    "-\n",
    "3\n",
    "+\n",
    "2\n",
    "Fim\n",
    "\n",
    "Saída:\n",
    "12\n",
    "```"
   ]
  },
  {
   "cell_type": "code",
   "execution_count": 2,
   "id": "e835d870",
   "metadata": {},
   "outputs": [
    {
     "name": "stdout",
     "output_type": "stream",
     "text": [
      "6\n"
     ]
    }
   ],
   "source": [
    "## Escreva e execute seu código aqui\n",
    "\n",
    "\n",
    "resultado = 0\n",
    "operacao = \"\"\n",
    "\n",
    "while True:\n",
    "    entrada = input(\"Digite um número ou operador, e para encerrar digite - Fim: \")\n",
    "    \n",
    "    if entrada == \"Fim\":\n",
    "        break\n",
    "    \n",
    "    if entrada in [\"+\", \"-\"]:\n",
    "        operacao = entrada\n",
    "    else:\n",
    "        numero = int(entrada)\n",
    "        if operacao == \"\":\n",
    "            resultado = numero\n",
    "        elif operacao == \"+\":\n",
    "            resultado += numero\n",
    "        elif operacao == \"-\":\n",
    "            resultado -= numero\n",
    "\n",
    "print(resultado)\n"
   ]
  },
  {
   "cell_type": "code",
   "execution_count": null,
   "id": "99a9a168-6afd-40a2-b734-09746ee70cc3",
   "metadata": {},
   "outputs": [],
   "source": []
  }
 ],
 "metadata": {
  "kernelspec": {
   "display_name": "Python 3",
   "language": "python",
   "name": "python3"
  },
  "language_info": {
   "codemirror_mode": {
    "name": "ipython",
    "version": 3
   },
   "file_extension": ".py",
   "mimetype": "text/x-python",
   "name": "python",
   "nbconvert_exporter": "python",
   "pygments_lexer": "ipython3",
   "version": "3.13.2"
  }
 },
 "nbformat": 4,
 "nbformat_minor": 5
}
