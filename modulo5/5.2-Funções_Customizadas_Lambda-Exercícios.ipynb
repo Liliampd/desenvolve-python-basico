{
 "cells": [
  {
   "cell_type": "markdown",
   "id": "cbdff5a5",
   "metadata": {},
   "source": [
    "# Módulo 5 - Funções\n",
    "\n",
    "## Aulas 5.2 - Funções Customizadas e 5.4 Funções ```lambda```"
   ]
  },
  {
   "cell_type": "markdown",
   "id": "28a3fee2",
   "metadata": {},
   "source": [
    "### Q1.\n",
    "\n",
    "- Sabendo que o código a seguir calcula o fatorial de n, escreva uma função chamada ```fatorial()``` que recebe um inteiro ```n``` como parâmetro e retorna o resultado do fatorial de ```n```. \n",
    "- No programa principal, peça ao usuário o valor de ```n```, chame a sua função e imprima o retorno.\n",
    "\n",
    "```python\n",
    "fat = 1\n",
    "for i in range(1, n+1):\n",
    "    fat *= i \n",
    "```"
   ]
  },
  {
   "cell_type": "code",
   "execution_count": null,
   "id": "d126b3a5",
   "metadata": {},
   "outputs": [],
   "source": [
    "## Crie aqui a função fatorial()\n",
    "## lembre-se de executar a célula para que \n",
    "## a função passe a existir e possa ser chamada\n",
    "def fatorial(n):\n",
    "    fat = 1\n",
    "    for i in range(1, n + 1):\n",
    "        fat *= i\n",
    "    return fat"
   ]
  },
  {
   "cell_type": "code",
   "execution_count": null,
   "id": "6e4fe64e",
   "metadata": {},
   "outputs": [],
   "source": [
    "## Escreva aqui o programa principal e execute a célula\n",
    "# Programa principal\n",
    "n = int(input(\"Digite um número inteiro para calcular o fatorial: \"))\n",
    "resultado = fatorial(n)\n",
    "print(f\"O fatorial de {n} é: {resultado}\")\n"
   ]
  },
  {
   "cell_type": "markdown",
   "id": "c0a1f599",
   "metadata": {},
   "source": [
    "### Q2.\n",
    "\n",
    "- Escreva uma função em Python chamada ```soma_quadrados``` que recebe dois números como parâmetros e retorna a soma dos seus quadrados. \n",
    "- No programa principal solicite ao usuário que insira dois números e utilize a função para exibir a soma dos quadrados."
   ]
  },
  {
   "cell_type": "code",
   "execution_count": 128,
   "id": "6dbddaad",
   "metadata": {},
   "outputs": [],
   "source": [
    "## Crie aqui a função soma_quadrados()\n",
    "import math\n",
    "\n",
    "def soma_quadrado (x, y):\n",
    "    return x**2 + y**2\n"
   ]
  },
  {
   "cell_type": "code",
   "execution_count": null,
   "id": "9175a7da",
   "metadata": {
    "scrolled": true
   },
   "outputs": [],
   "source": [
    "## Escreva aqui o programa principal e execute a célula\n",
    "import math\n",
    "x = int(input(\"Digite o primeiro número inteiro:\" ))\n",
    "y = int(input(\"Digite o segundo número inteiro:\"))\n",
    "resultado = soma_quadrado\n",
    "print(f\"A soma dos quadraods dos números digitados é: {resultado(x,y)}\")"
   ]
  },
  {
   "cell_type": "markdown",
   "id": "6ba34ce0",
   "metadata": {},
   "source": [
    "### Q3.\n",
    "\n",
    "- Crie uma função em Python chamada ```soma_digitos``` que recebe um número inteiro como parâmetro e retorna a soma dos seus dígitos. Por exemplo, para o número 123, a função deve retornar 6, $(1 + 2 + 3)$.\n",
    "    - O desafio aqui é separar os dígitos de um número inteiro usando operações aritméticas <br> <br>\n",
    "\n",
    "- No programa principal solicite ao usuário que insira um número e utilize a função ```soma_digitos``` para calcular e exibir a soma dos seus dígitos."
   ]
  },
  {
   "cell_type": "code",
   "execution_count": null,
   "id": "34838ebf",
   "metadata": {},
   "outputs": [],
   "source": [
    "## Crie aqui a função soma_digitos()\n",
    "def soma_digitos(n):\n",
    "    soma = 0\n",
    "    while n > 0:\n",
    "        soma += n % 10  # Obtém o último dígito\n",
    "        n //= 10  # Remove o último dígito\n",
    "    return soma\n",
    "    "
   ]
  },
  {
   "cell_type": "code",
   "execution_count": null,
   "id": "27c35b21",
   "metadata": {},
   "outputs": [],
   "source": [
    "## Escreva aqui o programa principal e execute a célula\n",
    "n = int(input(\"Digite um número inteiro com dois ou mais algarismos:\"))\n",
    "print(f\"A soma dos dígitos de {n} é: {soma_digitos(n)}\")"
   ]
  },
  {
   "cell_type": "markdown",
   "id": "c318b159",
   "metadata": {},
   "source": [
    "### Q4.\n",
    "\n",
    "- Crie a função ```inverteValor()``` que recebe um inteiro de qualquer tamanho e retorna esse valor invertido usando apenas operações aritméticas\n",
    "- Crie a função ```verificaInverso()``` que recebe o valor original e o valor invertido e retorna verdadeiro se ambos forem igualmente par ou igualmente ímpar. Retorne falso caso contrário.\n",
    "- No programa principal, peça um valor do usuário e imprima o retorno de ambas as funções.\n"
   ]
  },
  {
   "cell_type": "code",
   "execution_count": null,
   "id": "e4e47d1d",
   "metadata": {},
   "outputs": [],
   "source": [
    "## Crie aqui as funções inverteValor() e verificaInverso()\n",
    "\n",
    "def inverteValor(n):\n",
    "    invertido = 0\n",
    "    while n != 0:\n",
    "        invertido = invertido * 10 + n % 10\n",
    "        n //= 10\n",
    "    return invertido\n",
    "\n",
    "def verificaInverso(original, invertido):\n",
    "    return (original % 2 == invertido % 2)\n"
   ]
  },
  {
   "cell_type": "code",
   "execution_count": null,
   "id": "a9514e56",
   "metadata": {},
   "outputs": [],
   "source": [
    "## Escreva aqui o programa principal e execute a célula\n",
    "numero = int(input(\"Digite um número inteiro: \"))\n",
    "numero_invertido = inverteValor(abs(numero))  # Garantindo que lidamos com valores positivos\n",
    "\n",
    "print(f\"Número invertido: {numero_invertido}\")\n",
    "print(f\"Os números possuem mesma paridade? {verificaInverso(numero, numero_invertido)}\")\n"
   ]
  },
  {
   "cell_type": "markdown",
   "id": "329be966",
   "metadata": {},
   "source": [
    "### Q5.\n",
    "\n",
    "Você está desenvolvendo um programa para auxiliar em cálculos de geometria básica. Crie as seguintes funções:\n",
    "- A função ```calcula_perimetro_triangulo()``` que recebe três inteiros correspondentes aos lados de um triângulo e retorna o perímetro do triângulo, ou seja, a soma dos seus lados.\n",
    "- A função ```calcula_perimetro_circulo()``` que recebe um inteiro referente ao raio do círculo e retorna o perímetro do círculo, dado por $2 \\pi r$. Use a constante $\\pi$ da biblioteca ```math```.\n",
    "- A função ```calcula_perimetro_retangulo()``` que possui um parâmetro obrigatório ```lado1``` e um opcional ```lado2```, ambos inteiros. Se o valor opcional não for fornecido, significa que se trata de um quadrado. Sua função deve calcular e retornar o perímetro do retângulo, ou seja, a soma de seus lados. \n",
    "    - Para o quadrado, é dado por $4 \\times lado1$\n",
    "    - Para o retângulo é dado por $2 \\times lado1 + 2 \\times lado2$\n",
    "    \n",
    "- No programa principal apresente um menu com as opções disponíveis do seu sistema e uma quarta opção ```Sair```. Solicite ao usuário a opção desejada, solicite as entradas correspondentes à opção escolhida, invoque a respective função e apresente o seu retorno. Seu programa deve retornar ao menu até que o usuário escolha a opção ```Sair```\n",
    "\n",
    "Exemplo de interação:\n",
    "```\n",
    "1 - Calcular perímetro triângulo\n",
    "2 - Calcular perímetro círculo\n",
    "3 - Calcular perímetro retângulo\n",
    "4 - Sair\n",
    "\n",
    "Opção: 1\n",
    "Digite os três lados do triângulo:\n",
    "3\n",
    "4\n",
    "5\n",
    "O perímetro é: 12\n",
    "\n",
    "1 - Calcular perímetro triângulo\n",
    "2 - Calcular perímetro círculo\n",
    "3 - Calcular perímetro retângulo\n",
    "4 - Sair\n",
    "\n",
    "Opção: 3\n",
    "Informe os dois lados do retângulo. Se for um quadrado, digite 0 para o segundo valor:\n",
    "5\n",
    "0\n",
    "O perímetro é: 20\n",
    "\n",
    "1 - Calcular perímetro triângulo\n",
    "2 - Calcular perímetro círculo\n",
    "3 - Calcular perímetro retângulo\n",
    "4 - Sair\n",
    "\n",
    "Opção: 4\n",
    "```"
   ]
  },
  {
   "cell_type": "code",
   "execution_count": 132,
   "id": "0793d328",
   "metadata": {
    "scrolled": true
   },
   "outputs": [],
   "source": [
    "## Crie aqui as funções \n",
    "import math\n",
    "\n",
    "def calcula_perimetro_triangulo (x,y,z):\n",
    "    return x + y + z\n",
    "\n",
    "def calcula_perimetro_circulo (r):\n",
    "    return 2 * r *math.pi\n",
    "\n",
    "def calcula_perimetro_retangulo(lado1, lado2=None):\n",
    "    if lado2 is None or lado2 == \"\":\n",
    "        return 4 * lado1  \n",
    "    return 2 * lado1 + 2 * lado2  \n",
    " "
   ]
  },
  {
   "cell_type": "code",
   "execution_count": null,
   "id": "09abdf7f-c5d1-4b89-bd05-fe3ca20ba8e7",
   "metadata": {
    "scrolled": true
   },
   "outputs": [],
   "source": [
    "### Escreva aqui o programa principal \n",
    "\n",
    "while True:\n",
    "    print(\"\\nMenu:\")\n",
    "    print(\"1 - Calcular perímetro de um triângulo\")\n",
    "    print(\"2 - Calcular perímetro de um círculo\")\n",
    "    print(\"3 - Calcular perímetro de um retângulo\")\n",
    "    print(\"4 - Sair\")\n",
    "\n",
    "    opcao = int(input(\"Escolha uma opção\"))\n",
    "\n",
    "    if opcao == 1:\n",
    "         x = int(input(\"Digite o valor do lado 1: \"))\n",
    "         y = int(input(\"Digite o valor do lado 2: \"))\n",
    "         z = int(input(\"Digite o valor do lado 3: \"))\n",
    "         resultado = calcula_perimetro_triangulo\n",
    "         print(f\"O perímetro do triangulo é: {resultado(x,y,z)}\") \n",
    "    elif opcao == 2:\n",
    "        resultado1 = calcula_perimetro_circulo\n",
    "        r = int(input(\"Digite o valor do raio: \"))\n",
    "        print(f\"O valor do perímetro do círculo é: {resultado1(r)}\")  \n",
    "    elif opcao == 3:\n",
    "        resultado3 = calcula_perimetro_retangulo\n",
    "        lado1 = int(input(\"Digite o valor do lado 1: \"))\n",
    "        lado2 = input(\"Digite o valor do lado 2: \")\n",
    "        lado2 = int(lado2) if lado2.strip() else None\n",
    "        print(resultado3(lado1,lado2))\n",
    "    elif opcao == 4:\n",
    "        print(\"Saindo...\")\n",
    "        break\n",
    "\n",
    "        \n",
    "    else:\n",
    "         print(\"Opção inválida! Tente novamente.\")\n",
    "           \n",
    "    \n",
    "    \n",
    "   \n",
    "        "
   ]
  },
  {
   "cell_type": "markdown",
   "id": "3016bcc7",
   "metadata": {},
   "source": [
    "## Funções ```lambda```"
   ]
  },
  {
   "cell_type": "markdown",
   "id": "f9cdb8dd",
   "metadata": {},
   "source": [
    "### Q6.\n",
    "\n",
    "Crie uma função lambda para verificar se um número é par ou ímpar. Em seguida, solicite ao usuário um número indefinidos de valores (até que o usuário digite 0). Para cada valor de entrada, informe se é par ou ímpar.\n",
    "\n",
    "Exemplo de interação:\n",
    "```\n",
    "Digite os valores que deseja verificar a paridade (digite 0 para finalizar a entrada de dados):\n",
    "3\n",
    "ímpar\n",
    "8\n",
    "par\n",
    "12\n",
    "par\n",
    "5\n",
    "ímpar\n",
    "7ímpar\n",
    "```"
   ]
  },
  {
   "cell_type": "code",
   "execution_count": 1,
   "id": "e3c31a78",
   "metadata": {},
   "outputs": [
    {
     "name": "stdout",
     "output_type": "stream",
     "text": [
      "Digite um número (0 para sair):  3\n"
     ]
    },
    {
     "name": "stdout",
     "output_type": "stream",
     "text": [
      "O número 3 é Ímpar\n"
     ]
    },
    {
     "name": "stdout",
     "output_type": "stream",
     "text": [
      "Digite um número (0 para sair):  2\n"
     ]
    },
    {
     "name": "stdout",
     "output_type": "stream",
     "text": [
      "O número 2 é Par\n"
     ]
    },
    {
     "name": "stdout",
     "output_type": "stream",
     "text": [
      "Digite um número (0 para sair):  122\n"
     ]
    },
    {
     "name": "stdout",
     "output_type": "stream",
     "text": [
      "O número 122 é Par\n"
     ]
    },
    {
     "name": "stdout",
     "output_type": "stream",
     "text": [
      "Digite um número (0 para sair):  321\n"
     ]
    },
    {
     "name": "stdout",
     "output_type": "stream",
     "text": [
      "O número 321 é Ímpar\n"
     ]
    },
    {
     "name": "stdout",
     "output_type": "stream",
     "text": [
      "Digite um número (0 para sair):  0\n"
     ]
    },
    {
     "name": "stdout",
     "output_type": "stream",
     "text": [
      "Encerrando o programa...\n"
     ]
    }
   ],
   "source": [
    "\n",
    "par_ou_impar = lambda x: \"Par\" if x % 2 == 0 else \"Ímpar\"\n",
    "\n",
    "\n",
    "while True:\n",
    "    num = int(input(\"Digite um número (0 para sair): \"))\n",
    "\n",
    "    if num == 0:\n",
    "        print(\"Encerrando o programa...\")\n",
    "        break \n",
    "\n",
    "    print(f\"O número {num} é {par_ou_impar(num)}\")\n"
   ]
  },
  {
   "cell_type": "markdown",
   "id": "5a87474d",
   "metadata": {},
   "source": [
    "### Q7.\n",
    "\n",
    "Escreva um programa que pergunte ao usuário qual operação ele deseja: maior ou menor.\n",
    "Em seguida leia uma quantidade indefinida de valores do usuário, até que o usuário digite o valor zero.\n",
    "Apresente ao final o maior ou menor dos valores digitados de acordo com a escolha do usuário.\n",
    "\n",
    "**Sua solução deve incluir pelo menos uma função ```lambda```** \n",
    "\n",
    "Exemplo de interação:\n",
    "```\n",
    "Opções: (1) maior ou (2) menor?\n",
    "Opção: 1\n",
    "\n",
    "Digite os valores de entrada. Digite 0 para finalizar a entrada de valores.\n",
    "4\n",
    "12\n",
    "15\n",
    "1\n",
    "0\n",
    "\n",
    "O maior valor é: 15\n",
    "```"
   ]
  },
  {
   "cell_type": "code",
   "execution_count": 1,
   "id": "ee3f68ca",
   "metadata": {},
   "outputs": [
    {
     "name": "stdout",
     "output_type": "stream",
     "text": [
      "Você quer encontrar o 'maior' ou 'menor' valor?  3\n"
     ]
    },
    {
     "name": "stdout",
     "output_type": "stream",
     "text": [
      "Opção inválida! Digite 'maior' ou 'menor'.\n"
     ]
    },
    {
     "name": "stdout",
     "output_type": "stream",
     "text": [
      "Você quer encontrar o 'maior' ou 'menor' valor?  menor\n",
      "Digite um número (0 para sair):  3\n",
      "Digite um número (0 para sair):  5\n",
      "Digite um número (0 para sair):  6\n",
      "Digite um número (0 para sair):  12\n",
      "Digite um número (0 para sair):  3332\n",
      "Digite um número (0 para sair):  1\n",
      "Digite um número (0 para sair):  0\n"
     ]
    },
    {
     "name": "stdout",
     "output_type": "stream",
     "text": [
      "O menor valor digitado foi: 1\n"
     ]
    },
    {
     "name": "stdout",
     "output_type": "stream",
     "text": [
      "O menor valor digitado foi: 2\n"
     ]
    }
   ],
   "source": [
    "## Escreva aqui o programa principal \n",
    "\n",
    "# Funções lambda para escolher a comparação correta\n",
    "comparacao = {\n",
    "    \"maior\": lambda atual, novo: novo if novo > atual else atual,\n",
    "    \"menor\": lambda atual, novo: novo if novo < atual else atual\n",
    "}\n",
    "\n",
    "# Pergunta ao usuário qual operação deseja\n",
    "while True:\n",
    "    escolha = input(\"Você quer encontrar o 'maior' ou 'menor' valor? \").strip().lower()\n",
    "    \n",
    "    if escolha in comparacao:\n",
    "        break\n",
    "    print(\"Opção inválida! Digite 'maior' ou 'menor'.\")\n",
    "\n",
    "# Inicializa a variável com None (ainda sem valor)\n",
    "resultado = None\n",
    "\n",
    "# Lendo valores até que o usuário digite 0\n",
    "while True:\n",
    "    num = int(input(\"Digite um número (0 para sair): \"))\n",
    "    \n",
    "    if num == 0:\n",
    "        break  # Sai do loop se o usuário digitar 0\n",
    "\n",
    "    # Se for o primeiro número, ele se torna o inicial\n",
    "    if resultado is None:\n",
    "        resultado = num\n",
    "    else:\n",
    "        resultado = comparacao[escolha](resultado, num)\n",
    "\n",
    "# Verifica se pelo menos um número foi digitado\n",
    "if resultado is not None:\n",
    "    print(f\"O {escolha} valor digitado foi: {resultado}\")\n",
    "else:\n",
    "    print(\"Nenhum número válido foi digitado.\")\n"
   ]
  },
  {
   "cell_type": "code",
   "execution_count": null,
   "id": "b781a879-2628-484d-9be7-b3cf4bcd2607",
   "metadata": {},
   "outputs": [],
   "source": []
  }
 ],
 "metadata": {
  "kernelspec": {
   "display_name": "Python 3",
   "language": "python",
   "name": "python3"
  },
  "language_info": {
   "codemirror_mode": {
    "name": "ipython",
    "version": 3
   },
   "file_extension": ".py",
   "mimetype": "text/x-python",
   "name": "python",
   "nbconvert_exporter": "python",
   "pygments_lexer": "ipython3",
   "version": "3.13.2"
  }
 },
 "nbformat": 4,
 "nbformat_minor": 5
}
